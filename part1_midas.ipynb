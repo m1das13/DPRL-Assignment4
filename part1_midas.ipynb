{
 "cells": [
  {
   "cell_type": "code",
   "execution_count": 1,
   "id": "06bc3f85",
   "metadata": {},
   "outputs": [],
   "source": [
    "import numpy as np\n",
    "from copy import deepcopy"
   ]
  },
  {
   "cell_type": "code",
   "execution_count": 9,
   "id": "c21e0620",
   "metadata": {},
   "outputs": [],
   "source": [
    "def init_chain():\n",
    "    \n",
    "    # initialize table with only zeros\n",
    "    table = np.zeros((5,2))\n",
    "    \n",
    "    # for each state, action 1 and action 2\n",
    "    transitions = {0: [1, 0], \n",
    "                   1: [2, 0], \n",
    "                   2: [3, 0], \n",
    "                   3: [4, 0],\n",
    "                   4: [4, 0]}\n",
    "    \n",
    "    # rewards for each state's actions\n",
    "    R = np.array([[0, 0.2],\n",
    "                  [0, 0  ],\n",
    "                  [0, 0  ],\n",
    "                  [0, 0  ],\n",
    "                  [1, 0  ]])\n",
    "    \n",
    "    gamma = 0.9\n",
    "    \n",
    "    return table, transitions, R, gamma"
   ]
  },
  {
   "cell_type": "code",
   "execution_count": 8,
   "id": "0d66f5ab",
   "metadata": {},
   "outputs": [
    {
     "name": "stdout",
     "output_type": "stream",
     "text": [
      "[[ 6.561   6.1049]\n",
      " [ 7.29    5.9049]\n",
      " [ 8.1     5.9049]\n",
      " [ 9.      5.9049]\n",
      " [10.      5.9049]]\n"
     ]
    }
   ],
   "source": [
    "def BK(state, old_table, action, next_state, R, gamma):\n",
    "\n",
    "    # tabular values of \n",
    "    A = old_table[next_state, :]\n",
    "    \n",
    "    # immediate reward of the current state, for either action 1 or action 2\n",
    "    R_xa = R[state][action]\n",
    "\n",
    "    return R_xa + gamma * max(A)\n",
    "    \n",
    "\n",
    "def tabular_Qlearning(table, transitions, R, gamma):\n",
    "    \n",
    "    # loop until converged\n",
    "    converged = False\n",
    "    while not converged:\n",
    "        \n",
    "        # save copy of the table in the previous timestep\n",
    "        old_table = deepcopy(table)\n",
    "\n",
    "        # iterate over all states\n",
    "        for state in range(len(table)):\n",
    "\n",
    "            # retrieve all possible next states\n",
    "            next_states = np.array(transitions[state])\n",
    "\n",
    "            #calculate BK(state, action) for action 1 and action 2\n",
    "            a1, a2 = [BK(state, old_table, action, next_state, R, gamma) \n",
    "                      for (action, next_state) in enumerate(next_states)]\n",
    "            \n",
    "            \n",
    "\n",
    "            # update table with BK(state, action)\n",
    "            table[state] = a1, a2\n",
    "            \n",
    "        # stop if the table has converged\n",
    "        if np.array_equal(table, old_table):\n",
    "            converged = True\n",
    "            \n",
    "    return table\n",
    "\n",
    "# initialize table and the corresponding parameters\n",
    "table, transitions, R, gamma = init_chain()\n",
    "\n",
    "table = tabular_Qlearning(table, transitions, R, gamma)\n",
    "print(table)"
   ]
  },
  {
   "cell_type": "code",
   "execution_count": null,
   "id": "2ad184f9",
   "metadata": {},
   "outputs": [],
   "source": []
  }
 ],
 "metadata": {
  "kernelspec": {
   "display_name": "Python 3",
   "language": "python",
   "name": "python3"
  },
  "language_info": {
   "codemirror_mode": {
    "name": "ipython",
    "version": 3
   },
   "file_extension": ".py",
   "mimetype": "text/x-python",
   "name": "python",
   "nbconvert_exporter": "python",
   "pygments_lexer": "ipython3",
   "version": "3.7.9"
  }
 },
 "nbformat": 4,
 "nbformat_minor": 5
}
