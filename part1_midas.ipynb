{
 "cells": [
  {
   "cell_type": "code",
   "execution_count": 1,
   "id": "06bc3f85",
   "metadata": {},
   "outputs": [],
   "source": [
    "import numpy as np\n",
    "from copy import deepcopy\n",
    "import matplotlib.pyplot as plt"
   ]
  },
  {
   "cell_type": "markdown",
   "id": "6776ecd4",
   "metadata": {},
   "source": [
    "# 1. Initialize MC"
   ]
  },
  {
   "cell_type": "code",
   "execution_count": 137,
   "id": "5a2e760e",
   "metadata": {},
   "outputs": [],
   "source": [
    "def init_chain():\n",
    "    \n",
    "    # initialize Q with only zeros\n",
    "    Q = np.zeros((5,2))\n",
    "    \n",
    "    # for each state, action 1 and action 2\n",
    "    transitions = {0: [1, 0], \n",
    "                   1: [2, 0], \n",
    "                   2: [3, 0], \n",
    "                   3: [4, 0],\n",
    "                   4: [4, 0]}\n",
    "    \n",
    "    # rewards for each state's actions\n",
    "    R = np.array([[0, 0.2],\n",
    "                  [0, 0  ],\n",
    "                  [0, 0  ],\n",
    "                  [0, 0  ],\n",
    "                  [1, 0  ]])\n",
    "    \n",
    "    gamma = 0.9\n",
    "    \n",
    "    return Q, transitions, R, gamma"
   ]
  },
  {
   "cell_type": "markdown",
   "id": "022f57cd",
   "metadata": {},
   "source": [
    "# 2. Tabular Q-learning"
   ]
  },
  {
   "cell_type": "code",
   "execution_count": 138,
   "id": "0d66f5ab",
   "metadata": {},
   "outputs": [
    {
     "name": "stdout",
     "output_type": "stream",
     "text": [
      "[[ 6.561   6.1049]\n",
      " [ 7.29    5.9049]\n",
      " [ 8.1     5.9049]\n",
      " [ 9.      5.9049]\n",
      " [10.      5.9049]]\n"
     ]
    }
   ],
   "source": [
    "def BK(state, old_Q, action, next_state, R, gamma):\n",
    "\n",
    "    # tabular values of \n",
    "    A = old_Q[next_state, :]\n",
    "    \n",
    "    # immediate reward of the current state, for either action 1 or action 2\n",
    "    R_xa = R[state][action]\n",
    "\n",
    "    return R_xa + gamma * max(A)\n",
    "    \n",
    "\n",
    "def tabular_Qlearning(Q, transitions, R, gamma):\n",
    "    \n",
    "    # loop until converged\n",
    "    converged = False\n",
    "    while not converged:\n",
    "        \n",
    "        # save copy of the Q in the previous timestep\n",
    "        old_Q = deepcopy(Q)\n",
    "\n",
    "        # iterate over all states\n",
    "        for state in range(len(Q)):\n",
    "\n",
    "            # retrieve all possible next states\n",
    "            next_states = np.array(transitions[state])\n",
    "\n",
    "            #calculate BK(state, action) for action 1 and action 2\n",
    "            a1, a2 = [BK(state, old_Q, action, next_state, R, gamma) \n",
    "                      for (action, next_state) in enumerate(next_states)]\n",
    "            \n",
    "            # update Q with BK(state, action )\n",
    "            Q[state] = a1, a2\n",
    "            \n",
    "        # stop if the Q has converged\n",
    "        if np.array_equal(Q, old_Q):\n",
    "            converged = True\n",
    "            \n",
    "    return Q\n",
    "\n",
    "# initialize Q and the corresponding parameters\n",
    "Q, transitions, R, gamma = init_chain()\n",
    "\n",
    "Q = tabular_Qlearning(Q, transitions, R, gamma)\n",
    "print(Q)"
   ]
  },
  {
   "cell_type": "markdown",
   "id": "2e2afc37",
   "metadata": {},
   "source": [
    "# 3. Epsilon greedy"
   ]
  },
  {
   "cell_type": "code",
   "execution_count": 2,
   "id": "7258e390",
   "metadata": {},
   "outputs": [],
   "source": [
    "def init_Q():\n",
    "    return np.zeros((5,2))\n",
    "\n",
    "def init_chain():\n",
    "    \n",
    "    # for each state, action 1 and action 2\n",
    "    transitions = {0: [1, 0], \n",
    "                   1: [2, 0], \n",
    "                   2: [3, 0], \n",
    "                   3: [4, 0],\n",
    "                   4: [4, 0]}\n",
    "    \n",
    "    # rewards for each state's actions\n",
    "    R = np.array([[0, 0.2],\n",
    "                  [0, 0  ],\n",
    "                  [0, 0  ],\n",
    "                  [0, 0  ],\n",
    "                  [1, 0  ]])\n",
    "    \n",
    "    return transitions, R"
   ]
  },
  {
   "cell_type": "code",
   "execution_count": 3,
   "id": "6322ba40",
   "metadata": {},
   "outputs": [
    {
     "data": {
      "text/plain": [
       "array([[ 6.561 ,  6.1049],\n",
       "       [ 7.29  ,  5.9049],\n",
       "       [ 8.1   ,  5.9049],\n",
       "       [ 9.    ,  5.9049],\n",
       "       [10.    ,  5.9049]])"
      ]
     },
     "execution_count": 3,
     "metadata": {},
     "output_type": "execute_result"
    }
   ],
   "source": [
    "def update_Q(Q, state, action, next_state, R, gamma, alpha, epsilon):\n",
    "    \n",
    "    Q_xa = Q[state][action]\n",
    "    \n",
    "    # tabular values of next state\n",
    "    Q_ya = Q[next_state, :]\n",
    "    \n",
    "    # immediate reward of the current state, for either action 1 or action 2\n",
    "    R_xa = R[state][action]\n",
    "\n",
    "    return Q_xa + alpha * (R_xa + gamma * max(Q_ya) - Q_xa)\n",
    "\n",
    "def Qlearning(Q, transitions, R, gamma, alpha, epsilon):\n",
    "    \n",
    "    for episode in range(100):\n",
    "        \n",
    "        # initialize starting state\n",
    "        state = 0\n",
    "        \n",
    "        for step in range(200):\n",
    "\n",
    "            # retrieve all possible next states\n",
    "            next_states = np.array(transitions[state])\n",
    "\n",
    "            # greedy action\n",
    "            if np.random.sample() < (1-epsilon):\n",
    "                action = np.argmax(Q[state])\n",
    "                next_state = next_states[action]\n",
    "                \n",
    "            # random action\n",
    "            else:\n",
    "                action = np.random.choice([0,1])\n",
    "                next_state = next_states[action]\n",
    "\n",
    "            Q[state][action] = update_Q(Q, state, action, next_state, R, gamma, alpha, epsilon)\n",
    "            \n",
    "            state = next_state\n",
    "    \n",
    "    return Q\n",
    "\n",
    "# initialize Q and the chain\n",
    "Q = init_Q()\n",
    "transitions, R = init_chain()\n",
    "\n",
    "# initialize learing paramters\n",
    "gamma = 0.9\n",
    "alpha = 0.99\n",
    "epsilon = 0.1\n",
    "\n",
    "Q = Qlearning(Q, transitions, R, gamma, alpha, epsilon)\n",
    "Q"
   ]
  },
  {
   "cell_type": "code",
   "execution_count": null,
   "id": "668caa44",
   "metadata": {},
   "outputs": [],
   "source": []
  }
 ],
 "metadata": {
  "kernelspec": {
   "display_name": "Python 3",
   "language": "python",
   "name": "python3"
  },
  "language_info": {
   "codemirror_mode": {
    "name": "ipython",
    "version": 3
   },
   "file_extension": ".py",
   "mimetype": "text/x-python",
   "name": "python",
   "nbconvert_exporter": "python",
   "pygments_lexer": "ipython3",
   "version": "3.7.9"
  }
 },
 "nbformat": 4,
 "nbformat_minor": 5
}
